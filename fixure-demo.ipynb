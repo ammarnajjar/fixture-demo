{
 "cells": [
  {
   "cell_type": "code",
   "execution_count": 78,
   "metadata": {},
   "outputs": [],
   "source": [
    "import ipytest\n",
    "ipytest.config(rewrite_asserts=True, magics=True)\n",
    "\n",
    "__file__ = \"fixure-demo.ipynb\""
   ]
  },
  {
   "cell_type": "code",
   "execution_count": 87,
   "metadata": {},
   "outputs": [],
   "source": [
    "import pytest\n",
    "from selenium import webdriver\n",
    "\n",
    "DRIVERS = [webdriver.Chrome, webdriver.Firefox]\n",
    "DRIVERS_NAMES = [\"Chrome\", \"Firefox\"]\n",
    "\n",
    "@pytest.fixture(scope=\"session\", params=DRIVERS, ids=DRIVERS_NAMES)\n",
    "def driver(request):    \n",
    "    driver= request.param()\n",
    "    yield driver\n",
    "    tearDown(driver)\n",
    "    \n",
    "@pytest.fixture(scope=\"function\")\n",
    "def setUp(driver):\n",
    "    print(\"\\ndeleting Cookies...\")\n",
    "    driver.delete_all_cookies()\n",
    "    driver.get(\"https://entwweb.eventim-inhouse.de/phoenixentw/webticket/shop?mandant=TAU&kassierer=web\")\n",
    "    driver.get(\"https://ammarnajjar.github.io/\")\n",
    "\n",
    "def tearDown(driver):    \n",
    "    driver.close()\n",
    "    driver.quit()\n",
    "\n",
    "@pytest.fixture(scope=\"function\", params=[1,2,3,4])\n",
    "def set_parameters(request):\n",
    "    yield request.param\n",
    "    \n",
    "\n",
    "@pytest.fixture(scope=\"function\", params=[1, 2, 3, 4])\n",
    "def param(request):\n",
    "    yield request.param"
   ]
  },
  {
   "cell_type": "code",
   "execution_count": 88,
   "metadata": {},
   "outputs": [
    {
     "name": "stdout",
     "output_type": "stream",
     "text": [
      "============================================================ test session starts ============================================================\n",
      "platform darwin -- Python 3.7.3, pytest-4.6.3, py-1.8.0, pluggy-0.12.0 -- /Users/ammarnajjar/.local/share/virtualenvs/fixture-demo-6UxLoH77/bin/python3.7\n",
      "cachedir: .pytest_cache\n",
      "rootdir: /Users/ammarnajjar/workspace/py/fixture-demo\n",
      "plugins: forked-1.0.2, xdist-1.28.0\n",
      "gw0 I / gw1 I / gw2 I\n",
      "[gw0] darwin Python 3.7.3 cwd: /Users/ammarnajjar/workspace/py/fixture-demo\n",
      "[gw1] darwin Python 3.7.3 cwd: /Users/ammarnajjar/workspace/py/fixture-demo\n",
      "[gw2] darwin Python 3.7.3 cwd: /Users/ammarnajjar/workspace/py/fixture-demo\n",
      "[gw0] Python 3.7.3 (default, Mar 27 2019, 09:23:15)  -- [Clang 10.0.1 (clang-1001.0.46.3)]\n",
      "[gw1] Python 3.7.3 (default, Mar 27 2019, 09:23:15)  -- [Clang 10.0.1 (clang-1001.0.46.3)]\n",
      "[gw2] Python 3.7.3 (default, Mar 27 2019, 09:23:15)  -- [Clang 10.0.1 (clang-1001.0.46.3)]\n",
      "gw0 [0] / gw1 [0] / gw2 [0]\n",
      "\n",
      "scheduling tests via LoadScheduling\n",
      "\n",
      "============================================================= warnings summary ==============================================================\n",
      "/Users/ammarnajjar/.local/share/virtualenvs/fixture-demo-6UxLoH77/lib/python3.7/site-packages/_pytest/config/__init__.py:784\n",
      "  /Users/ammarnajjar/.local/share/virtualenvs/fixture-demo-6UxLoH77/lib/python3.7/site-packages/_pytest/config/__init__.py:784: PytestAssertRewriteWarning: Module already imported so cannot be rewritten: pytest_forked\n",
      "    self._mark_plugins_for_rewrite(hook)\n",
      "\n",
      "/Users/ammarnajjar/.local/share/virtualenvs/fixture-demo-6UxLoH77/lib/python3.7/site-packages/_pytest/config/__init__.py:784\n",
      "  /Users/ammarnajjar/.local/share/virtualenvs/fixture-demo-6UxLoH77/lib/python3.7/site-packages/_pytest/config/__init__.py:784: PytestAssertRewriteWarning: Module already imported so cannot be rewritten: xdist\n",
      "    self._mark_plugins_for_rewrite(hook)\n",
      "\n",
      "-- Docs: https://docs.pytest.org/en/latest/warnings.html\n",
      "======================================================== 2 warnings in 0.39 seconds =========================================================\n"
     ]
    }
   ],
   "source": [
    "%%run_pytest[clean] -vvs -n 3\n",
    "\n",
    "\n",
    "@pytest.mark.usefixtures('setUp', 'param')\n",
    "class TestCaseOne:\n",
    "\n",
    "    def test_1(self, param):\n",
    "        assert 1 == param\n",
    "\n",
    "    def test_2(self, param):\n",
    "        assert 2 == param\n",
    "\n",
    "    def test_3(self, param):\n",
    "        assert 3 == param"
   ]
  },
  {
   "cell_type": "code",
   "execution_count": null,
   "metadata": {},
   "outputs": [],
   "source": []
  }
 ],
 "metadata": {
  "kernelspec": {
   "display_name": "Python 3",
   "language": "python",
   "name": "python3"
  },
  "language_info": {
   "codemirror_mode": {
    "name": "ipython",
    "version": 3
   },
   "file_extension": ".py",
   "mimetype": "text/x-python",
   "name": "python",
   "nbconvert_exporter": "python",
   "pygments_lexer": "ipython3",
   "version": "3.7.3"
  }
 },
 "nbformat": 4,
 "nbformat_minor": 2
}
